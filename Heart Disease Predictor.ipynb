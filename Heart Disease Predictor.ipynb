{
 "cells": [
  {
   "cell_type": "code",
   "execution_count": null,
   "id": "6f135550-1965-4510-8820-b5d672d3e62b",
   "metadata": {},
   "outputs": [],
   "source": [
    "import pandas as pd\n",
    "import numpy as np\n",
    "import tensorflow as tf"
   ]
  },
  {
   "cell_type": "code",
   "execution_count": null,
   "id": "400dedca-ef6d-4e2f-ae31-faeb0a5b4331",
   "metadata": {},
   "outputs": [],
   "source": [
    "df = pd.read_csv('/Users/karimelzokm/Downloads/CVD_cleaned.csv')"
   ]
  },
  {
   "cell_type": "code",
   "execution_count": null,
   "id": "cac5099f-cf1c-433b-843b-f60cb41cc7df",
   "metadata": {},
   "outputs": [],
   "source": [
    "print(f'Shape: {df.shape}')"
   ]
  },
  {
   "cell_type": "code",
   "execution_count": null,
   "id": "c2a4ec0c-ac8d-4c07-8b13-7b9f7ca78811",
   "metadata": {},
   "outputs": [],
   "source": [
    "numeric_features = ['Height_(cm)',\n",
    "                   'Weight_(kg)',\n",
    "                   'BMI',\n",
    "                   'Alcohol_Consumption',\n",
    "                   'Fruit_Consumption',\n",
    "                   'Green_Vegetables_Consumption',\n",
    "                   'FriedPotato_Consumption']\n",
    "\n",
    "categorical_features = ['General_Health',\n",
    "                       'Checkup','Exercise','Skin_Cancer','Other_Cancer',\n",
    "                        'Depression','Diabetes','Arthritis',\n",
    "                       'Sex',\n",
    "                       'Age_Category',\n",
    "                       'Smoking_History']\n",
    "\n",
    "target = 'Heart_Disease'"
   ]
  },
  {
   "cell_type": "code",
   "execution_count": null,
   "id": "8ca89f3e-3da9-4378-9f32-e6c1a6dcdd51",
   "metadata": {},
   "outputs": [],
   "source": [
    "from sklearn.preprocessing import LabelEncoder\n",
    "\n",
    "label_encoder = LabelEncoder()\n",
    "for col in categorical_features:\n",
    "    df[col] = label_encoder.fit_transform(df[col])"
   ]
  },
  {
   "cell_type": "code",
   "execution_count": null,
   "id": "d23e1afe-a050-4d29-91ba-70449fbb782a",
   "metadata": {},
   "outputs": [],
   "source": [
    "from sklearn.preprocessing import MinMaxScaler"
   ]
  },
  {
   "cell_type": "code",
   "execution_count": null,
   "id": "f46e0b17-3eed-4d24-b515-d6f3dc530ecd",
   "metadata": {},
   "outputs": [],
   "source": [
    "df['Heart_Disease'] = df['Heart_Disease'].replace({'Yes': 1, 'No': 0})"
   ]
  },
  {
   "cell_type": "code",
   "execution_count": null,
   "id": "efedb021-b81e-4cc1-b868-702861e8376e",
   "metadata": {},
   "outputs": [],
   "source": [
    "from imblearn.over_sampling import RandomOverSampler\n",
    "from imblearn.under_sampling import RandomUnderSampler"
   ]
  },
  {
   "cell_type": "code",
   "execution_count": null,
   "id": "6a5d939d-125e-4729-8d76-3704a551aa1b",
   "metadata": {},
   "outputs": [],
   "source": [
    "X = X = df.drop(columns=['Heart_Disease'])\n",
    "y = df['Heart_Disease']\n"
   ]
  },
  {
   "cell_type": "code",
   "execution_count": null,
   "id": "47047471-4132-46e3-addf-87038bdc153e",
   "metadata": {},
   "outputs": [],
   "source": [
    "ros = RandomOverSampler(sampling_strategy='minority', random_state=42)\n",
    "X_resampled_over, y_resampled_over = ros.fit_resample(X, y)\n",
    "\n",
    "rus = RandomUnderSampler(sampling_strategy='majority', random_state=42)\n",
    "X_resampled, y_resampled = rus.fit_resample(X_resampled_over, y_resampled_over)"
   ]
  },
  {
   "cell_type": "code",
   "execution_count": null,
   "id": "7d4218f3-ddbe-4ffe-b215-ffaca63dfc54",
   "metadata": {},
   "outputs": [],
   "source": [
    "df_balanced = pd.concat([X_resampled, y_resampled], axis=1)"
   ]
  },
  {
   "cell_type": "code",
   "execution_count": null,
   "id": "e03a141a-c792-475b-bf80-742c32a732ef",
   "metadata": {},
   "outputs": [],
   "source": [
    "X_balanced = df_balanced.drop(columns=['Heart_Disease'])\n",
    "y_balanced = df_balanced['Heart_Disease']"
   ]
  },
  {
   "cell_type": "code",
   "execution_count": null,
   "id": "78ff8379-8af2-47ac-96ac-67f604d06900",
   "metadata": {},
   "outputs": [],
   "source": [
    "df_balanced.shape"
   ]
  },
  {
   "cell_type": "code",
   "execution_count": null,
   "id": "f427372c-13e3-4f97-a34a-d0893fb02ef4",
   "metadata": {},
   "outputs": [],
   "source": [
    "from sklearn.model_selection import train_test_split\n"
   ]
  },
  {
   "cell_type": "code",
   "execution_count": null,
   "id": "1f1a137c-3753-4cfd-81ab-0a55816814c0",
   "metadata": {},
   "outputs": [],
   "source": [
    "X_train, X_test, y_train, y_test = train_test_split(X_resampled, y_resampled, test_size=0.2, random_state=42)"
   ]
  },
  {
   "cell_type": "code",
   "execution_count": null,
   "id": "df8cea32-da97-4bad-a401-a8f79fa4ba4c",
   "metadata": {},
   "outputs": [],
   "source": [
    "scaler = MinMaxScaler()\n",
    "X_train = scaler.fit_transform(X_train)\n",
    "X_test = scaler.transform(X_test)"
   ]
  },
  {
   "cell_type": "code",
   "execution_count": null,
   "id": "80498ae5-3240-4d8a-8bd9-9317e7077974",
   "metadata": {},
   "outputs": [],
   "source": [
    "X_train = X_train.astype('float64')\n",
    "X_test = X_test.astype('float64')"
   ]
  },
  {
   "cell_type": "code",
   "execution_count": null,
   "id": "89b6885b-5c4d-4137-9f8c-a8d6af6f1d56",
   "metadata": {},
   "outputs": [],
   "source": [
    "import tensorflow as tf\n",
    "from tensorflow.keras.models import Sequential\n",
    "from tensorflow.keras.layers import Dense\n",
    "from sklearn.metrics import accuracy_score\n",
    "import keras\n",
    "from tensorflow.keras.callbacks import ReduceLROnPlateau\n",
    "\n",
    "model = Sequential()\n",
    "model.add(Dense(32, activation='relu', input_dim=X_train.shape[1]))\n",
    "model.add(Dense(8, activation='relu'))\n",
    "model.add(Dense(1, activation='sigmoid'))\n",
    "\n",
    "\n",
    "\n",
    "reduce_lr = ReduceLROnPlateau(monitor='val_loss', factor=0.2, patience=5, min_lr=0.00001)\n",
    "\n",
    "optimizer = keras.optimizers.Adam(learning_rate=0.001)\n",
    "model.compile(optimizer=optimizer, loss='binary_crossentropy', metrics=['accuracy'])\n",
    "\n",
    "\n",
    "model.fit(X_train, y_train, epochs=150, batch_size=32, validation_split=0.1, verbose=1, callbacks=[reduce_lr])\n",
    "\n",
    "\n",
    "y_pred = model.predict(X_test)\n",
    "# y_pred_binary = tf.argmax(y_pred, axis=1).numpy() # for softmax with 2 neurons output\n",
    "y_pred_binary = (y_pred > 0.5).astype(int) # for sigmoid with 1 neuron output\n",
    "\n",
    "accuracy = accuracy_score(y_test, y_pred_binary)\n",
    "print(\"Test Accuracy:\", accuracy)"
   ]
  },
  {
   "cell_type": "code",
   "execution_count": null,
   "id": "99462013-3412-4f6c-8f55-da3fdfae2f09",
   "metadata": {},
   "outputs": [],
   "source": [
    "import seaborn as sns\n",
    "import matplotlib.pyplot as plt\n",
    "from sklearn.metrics import confusion_matrix\n",
    "\n",
    "# Assuming y_test and y_pred_binary_mlp are your true labels and predicted labels\n",
    "conf_matrix_mlp = confusion_matrix(y_test, y_pred_binary)\n",
    "2\n",
    "# Create a heatmap using seaborn\n",
    "sns.heatmap(conf_matrix_mlp, annot=True, fmt='d', cmap='Blues', cbar=False,\n",
    "            xticklabels=['Predicted 0', 'Predicted 1'],\n",
    "            yticklabels=['Actual 0', 'Actual 1'])\n",
    "\n",
    "plt.title('Confusion Matrix for MLP')\n",
    "plt.xlabel('Predicted Label')\n",
    "plt.ylabel('True Label')\n",
    "plt.show()"
   ]
  },
  {
   "cell_type": "code",
   "execution_count": null,
   "id": "9db3cfdf-10c0-4d9b-8842-84df420f7b7b",
   "metadata": {},
   "outputs": [],
   "source": []
  }
 ],
 "metadata": {
  "kernelspec": {
   "display_name": "Python 3 (ipykernel)",
   "language": "python",
   "name": "python3"
  },
  "language_info": {
   "codemirror_mode": {
    "name": "ipython",
    "version": 3
   },
   "file_extension": ".py",
   "mimetype": "text/x-python",
   "name": "python",
   "nbconvert_exporter": "python",
   "pygments_lexer": "ipython3",
   "version": "3.11.5"
  }
 },
 "nbformat": 4,
 "nbformat_minor": 5
}
